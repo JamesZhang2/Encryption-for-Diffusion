{
 "cells": [
  {
   "cell_type": "code",
   "execution_count": 15,
   "id": "1737f716",
   "metadata": {},
   "outputs": [],
   "source": [
    "import importlib\n",
    "import train\n",
    "import models\n",
    "import fhe_vec\n",
    "\n",
    "importlib.reload(train)\n",
    "importlib.reload(models)\n",
    "importlib.reload(fhe_vec)\n",
    "\n",
    "from train import *\n",
    "import matplotlib.pyplot as plt\n",
    "from torch.utils.data import DataLoader\n",
    "import numpy as np\n",
    "import torch\n",
    "import random\n",
    "from fhe_vec import FHE_VEC\n",
    "from models import *\n",
    "\n",
    "device = torch.device(\"cuda\" if torch.cuda.is_available() else \"cpu\")\n",
    "torch.manual_seed(42)\n",
    "np.random.seed(42)\n",
    "random.seed(42)"
   ]
  },
  {
   "cell_type": "markdown",
   "id": "3be1931a-2fe3-4184-ab5e-09dc342cad51",
   "metadata": {},
   "source": [
    "# IRIS Dataset"
   ]
  },
  {
   "cell_type": "code",
   "execution_count": 16,
   "id": "63784a66-9c57-4469-9128-184afbf387b6",
   "metadata": {},
   "outputs": [
    {
     "name": "stdout",
     "output_type": "stream",
     "text": [
      "Epoch 1/100, Training Loss: 1.0335\n",
      "Validation Loss: 0.0406, Validation Accuracy: 0.6667\n",
      "Epoch 2/100, Training Loss: 0.9667\n",
      "Validation Loss: 0.0397, Validation Accuracy: 0.6667\n",
      "Epoch 3/100, Training Loss: 0.9986\n",
      "Validation Loss: 0.0394, Validation Accuracy: 0.6667\n",
      "Epoch 4/100, Training Loss: 0.9608\n",
      "Validation Loss: 0.0391, Validation Accuracy: 0.6667\n",
      "Epoch 5/100, Training Loss: 0.9715\n",
      "Validation Loss: 0.0390, Validation Accuracy: 0.6667\n",
      "Epoch 6/100, Training Loss: 0.9638\n",
      "Validation Loss: 0.0389, Validation Accuracy: 0.6667\n",
      "Epoch 7/100, Training Loss: 0.9378\n",
      "Validation Loss: 0.0387, Validation Accuracy: 0.6667\n",
      "Epoch 8/100, Training Loss: 0.9246\n",
      "Validation Loss: 0.0387, Validation Accuracy: 0.6667\n",
      "Epoch 9/100, Training Loss: 0.9538\n",
      "Validation Loss: 0.0386, Validation Accuracy: 0.6667\n",
      "Epoch 10/100, Training Loss: 0.9501\n",
      "Validation Loss: 0.0385, Validation Accuracy: 0.6667\n",
      "Epoch 11/100, Training Loss: 0.9247\n",
      "Validation Loss: 0.0383, Validation Accuracy: 0.6667\n",
      "Epoch 12/100, Training Loss: 0.9161\n",
      "Validation Loss: 0.0382, Validation Accuracy: 0.6667\n",
      "Epoch 13/100, Training Loss: 0.9180\n",
      "Validation Loss: 0.0380, Validation Accuracy: 0.6667\n",
      "Epoch 14/100, Training Loss: 0.9281\n",
      "Validation Loss: 0.0378, Validation Accuracy: 0.6667\n",
      "Epoch 15/100, Training Loss: 0.9196\n",
      "Validation Loss: 0.0377, Validation Accuracy: 0.6667\n",
      "Epoch 16/100, Training Loss: 0.9290\n",
      "Validation Loss: 0.0376, Validation Accuracy: 0.6667\n",
      "Epoch 17/100, Training Loss: 0.9007\n",
      "Validation Loss: 0.0375, Validation Accuracy: 0.6667\n",
      "Epoch 18/100, Training Loss: 0.8717\n",
      "Validation Loss: 0.0374, Validation Accuracy: 0.6667\n",
      "Epoch 19/100, Training Loss: 0.9214\n",
      "Validation Loss: 0.0373, Validation Accuracy: 0.6667\n",
      "Epoch 20/100, Training Loss: 0.9001\n",
      "Validation Loss: 0.0373, Validation Accuracy: 0.6667\n",
      "Epoch 21/100, Training Loss: 0.8995\n",
      "Validation Loss: 0.0373, Validation Accuracy: 0.6667\n",
      "Epoch 22/100, Training Loss: 0.8900\n",
      "Validation Loss: 0.0372, Validation Accuracy: 0.6667\n",
      "Epoch 23/100, Training Loss: 0.9035\n",
      "Validation Loss: 0.0372, Validation Accuracy: 0.6667\n",
      "Epoch 24/100, Training Loss: 0.9213\n",
      "Validation Loss: 0.0372, Validation Accuracy: 0.6667\n",
      "Epoch 25/100, Training Loss: 0.9285\n",
      "Validation Loss: 0.0371, Validation Accuracy: 0.6667\n",
      "Epoch 26/100, Training Loss: 0.8850\n",
      "Validation Loss: 0.0371, Validation Accuracy: 0.6667\n",
      "Epoch 27/100, Training Loss: 0.8984\n",
      "Validation Loss: 0.0370, Validation Accuracy: 0.6667\n",
      "Epoch 28/100, Training Loss: 0.9038\n",
      "Validation Loss: 0.0370, Validation Accuracy: 0.6667\n",
      "Epoch 29/100, Training Loss: 0.8610\n",
      "Validation Loss: 0.0370, Validation Accuracy: 0.6667\n",
      "Epoch 30/100, Training Loss: 0.9031\n",
      "Validation Loss: 0.0369, Validation Accuracy: 0.6667\n",
      "Epoch 31/100, Training Loss: 0.8659\n",
      "Validation Loss: 0.0369, Validation Accuracy: 0.6667\n",
      "Epoch 32/100, Training Loss: 0.9071\n",
      "Validation Loss: 0.0369, Validation Accuracy: 0.6667\n",
      "Epoch 33/100, Training Loss: 0.9207\n",
      "Validation Loss: 0.0368, Validation Accuracy: 0.6667\n",
      "Epoch 34/100, Training Loss: 0.8845\n",
      "Validation Loss: 0.0368, Validation Accuracy: 0.6667\n",
      "Epoch 35/100, Training Loss: 0.8911\n",
      "Validation Loss: 0.0368, Validation Accuracy: 0.6667\n",
      "Epoch 36/100, Training Loss: 0.8849\n",
      "Validation Loss: 0.0368, Validation Accuracy: 0.6667\n",
      "Epoch 37/100, Training Loss: 0.8898\n",
      "Validation Loss: 0.0367, Validation Accuracy: 0.6667\n",
      "Epoch 38/100, Training Loss: 0.8895\n",
      "Validation Loss: 0.0367, Validation Accuracy: 0.6667\n",
      "Epoch 39/100, Training Loss: 0.8824\n",
      "Validation Loss: 0.0366, Validation Accuracy: 0.6667\n",
      "Epoch 40/100, Training Loss: 0.8591\n",
      "Validation Loss: 0.0365, Validation Accuracy: 0.6667\n",
      "Epoch 41/100, Training Loss: 0.8908\n",
      "Validation Loss: 0.0364, Validation Accuracy: 0.6667\n",
      "Epoch 42/100, Training Loss: 0.8955\n",
      "Validation Loss: 0.0362, Validation Accuracy: 0.6667\n",
      "Epoch 43/100, Training Loss: 0.8641\n",
      "Validation Loss: 0.0360, Validation Accuracy: 0.6667\n",
      "Epoch 44/100, Training Loss: 0.8456\n",
      "Validation Loss: 0.0358, Validation Accuracy: 0.6667\n",
      "Epoch 45/100, Training Loss: 0.8610\n",
      "Validation Loss: 0.0356, Validation Accuracy: 0.6667\n",
      "Epoch 46/100, Training Loss: 0.8584\n",
      "Validation Loss: 0.0355, Validation Accuracy: 0.6667\n",
      "Epoch 47/100, Training Loss: 0.8556\n",
      "Validation Loss: 0.0357, Validation Accuracy: 0.6667\n",
      "Epoch 48/100, Training Loss: 0.8477\n",
      "Validation Loss: 0.0361, Validation Accuracy: 0.9167\n",
      "Epoch 49/100, Training Loss: 0.8464\n",
      "Validation Loss: 0.0365, Validation Accuracy: 0.6667\n",
      "Epoch 50/100, Training Loss: 0.8488\n",
      "Validation Loss: 0.0364, Validation Accuracy: 0.6667\n",
      "Epoch 51/100, Training Loss: 0.8385\n",
      "Validation Loss: 0.0358, Validation Accuracy: 0.9167\n",
      "Epoch 52/100, Training Loss: 0.8319\n",
      "Validation Loss: 0.0352, Validation Accuracy: 0.9167\n",
      "Epoch 53/100, Training Loss: 0.8275\n",
      "Validation Loss: 0.0349, Validation Accuracy: 0.8750\n",
      "Epoch 54/100, Training Loss: 0.8354\n",
      "Validation Loss: 0.0347, Validation Accuracy: 0.7917\n",
      "Epoch 55/100, Training Loss: 0.8213\n",
      "Validation Loss: 0.0347, Validation Accuracy: 0.8333\n",
      "Epoch 56/100, Training Loss: 0.8220\n",
      "Validation Loss: 0.0349, Validation Accuracy: 1.0000\n",
      "Epoch 57/100, Training Loss: 0.8245\n",
      "Validation Loss: 0.0352, Validation Accuracy: 0.9583\n",
      "Epoch 58/100, Training Loss: 0.8269\n",
      "Validation Loss: 0.0351, Validation Accuracy: 0.9583\n",
      "Epoch 59/100, Training Loss: 0.8096\n",
      "Validation Loss: 0.0348, Validation Accuracy: 1.0000\n",
      "Epoch 60/100, Training Loss: 0.8069\n",
      "Validation Loss: 0.0345, Validation Accuracy: 1.0000\n",
      "Epoch 61/100, Training Loss: 0.8065\n",
      "Validation Loss: 0.0342, Validation Accuracy: 0.8333\n",
      "Epoch 62/100, Training Loss: 0.7954\n",
      "Validation Loss: 0.0341, Validation Accuracy: 0.7500\n",
      "Epoch 63/100, Training Loss: 0.7989\n",
      "Validation Loss: 0.0340, Validation Accuracy: 0.7500\n",
      "Epoch 64/100, Training Loss: 0.7902\n",
      "Validation Loss: 0.0339, Validation Accuracy: 0.7500\n",
      "Epoch 65/100, Training Loss: 0.7986\n",
      "Validation Loss: 0.0339, Validation Accuracy: 0.8750\n",
      "Epoch 66/100, Training Loss: 0.8023\n",
      "Validation Loss: 0.0340, Validation Accuracy: 1.0000\n",
      "Epoch 67/100, Training Loss: 0.7883\n",
      "Validation Loss: 0.0341, Validation Accuracy: 1.0000\n",
      "Epoch 68/100, Training Loss: 0.7783\n",
      "Validation Loss: 0.0341, Validation Accuracy: 1.0000\n",
      "Epoch 69/100, Training Loss: 0.7971\n",
      "Validation Loss: 0.0341, Validation Accuracy: 1.0000\n",
      "Epoch 70/100, Training Loss: 0.7926\n",
      "Validation Loss: 0.0340, Validation Accuracy: 1.0000\n",
      "Epoch 71/100, Training Loss: 0.7850\n",
      "Validation Loss: 0.0338, Validation Accuracy: 1.0000\n",
      "Epoch 72/100, Training Loss: 0.7777\n",
      "Validation Loss: 0.0337, Validation Accuracy: 1.0000\n",
      "Epoch 73/100, Training Loss: 0.7783\n",
      "Validation Loss: 0.0335, Validation Accuracy: 0.9583\n",
      "Epoch 74/100, Training Loss: 0.7832\n",
      "Validation Loss: 0.0332, Validation Accuracy: 0.8750\n",
      "Epoch 75/100, Training Loss: 0.7700\n",
      "Validation Loss: 0.0332, Validation Accuracy: 0.8750\n",
      "Epoch 76/100, Training Loss: 0.7844\n",
      "Validation Loss: 0.0332, Validation Accuracy: 0.9583\n",
      "Epoch 77/100, Training Loss: 0.7704\n",
      "Validation Loss: 0.0333, Validation Accuracy: 1.0000\n",
      "Epoch 78/100, Training Loss: 0.7821\n",
      "Validation Loss: 0.0335, Validation Accuracy: 1.0000\n",
      "Epoch 79/100, Training Loss: 0.7736\n",
      "Validation Loss: 0.0334, Validation Accuracy: 1.0000\n",
      "Epoch 80/100, Training Loss: 0.7701\n",
      "Validation Loss: 0.0333, Validation Accuracy: 1.0000\n",
      "Epoch 81/100, Training Loss: 0.7624\n",
      "Validation Loss: 0.0334, Validation Accuracy: 1.0000\n",
      "Epoch 82/100, Training Loss: 0.7706\n",
      "Validation Loss: 0.0333, Validation Accuracy: 1.0000\n",
      "Epoch 83/100, Training Loss: 0.7625\n",
      "Validation Loss: 0.0331, Validation Accuracy: 1.0000\n",
      "Epoch 84/100, Training Loss: 0.7697\n",
      "Validation Loss: 0.0328, Validation Accuracy: 0.9583\n",
      "Epoch 85/100, Training Loss: 0.7643\n",
      "Validation Loss: 0.0327, Validation Accuracy: 0.9583\n",
      "Epoch 86/100, Training Loss: 0.7608\n",
      "Validation Loss: 0.0327, Validation Accuracy: 0.9583\n",
      "Epoch 87/100, Training Loss: 0.7618\n",
      "Validation Loss: 0.0327, Validation Accuracy: 1.0000\n",
      "Epoch 88/100, Training Loss: 0.7489\n",
      "Validation Loss: 0.0328, Validation Accuracy: 1.0000\n",
      "Epoch 89/100, Training Loss: 0.7523\n",
      "Validation Loss: 0.0328, Validation Accuracy: 1.0000\n",
      "Epoch 90/100, Training Loss: 0.7604\n",
      "Validation Loss: 0.0328, Validation Accuracy: 1.0000\n",
      "Epoch 91/100, Training Loss: 0.7509\n",
      "Validation Loss: 0.0328, Validation Accuracy: 1.0000\n",
      "Epoch 92/100, Training Loss: 0.7414\n",
      "Validation Loss: 0.0326, Validation Accuracy: 1.0000\n",
      "Epoch 93/100, Training Loss: 0.7494\n",
      "Validation Loss: 0.0325, Validation Accuracy: 1.0000\n",
      "Epoch 94/100, Training Loss: 0.7506\n",
      "Validation Loss: 0.0323, Validation Accuracy: 0.9583\n",
      "Epoch 95/100, Training Loss: 0.7453\n",
      "Validation Loss: 0.0322, Validation Accuracy: 0.9583\n",
      "Epoch 96/100, Training Loss: 0.7336\n",
      "Validation Loss: 0.0322, Validation Accuracy: 0.9583\n",
      "Epoch 97/100, Training Loss: 0.7437\n",
      "Validation Loss: 0.0322, Validation Accuracy: 0.9583\n",
      "Epoch 98/100, Training Loss: 0.7481\n",
      "Validation Loss: 0.0322, Validation Accuracy: 0.9583\n",
      "Epoch 99/100, Training Loss: 0.7382\n",
      "Validation Loss: 0.0322, Validation Accuracy: 0.9583\n",
      "Epoch 100/100, Training Loss: 0.7331\n",
      "Validation Loss: 0.0321, Validation Accuracy: 0.9583\n",
      "Test Accuracy: 0.9667, 29/30\n"
     ]
    }
   ],
   "source": [
    "iris_train_ds, iris_test_ds = download_IRIS()\n",
    "\n",
    "model = Linear(4, 3).to(device)\n",
    "train(model, iris_train_ds, epochs=100, learning_rate=1e-2)\n",
    "test(model, iris_test_ds, batch_size=64)"
   ]
  },
  {
   "cell_type": "code",
   "execution_count": 17,
   "id": "39f48fda-173b-4d8c-8676-95b8e29e0fd2",
   "metadata": {},
   "outputs": [
    {
     "ename": "NameError",
     "evalue": "name 'test_fhe' is not defined",
     "output_type": "error",
     "traceback": [
      "\u001b[0;31m---------------------------------------------------------------------------\u001b[0m",
      "\u001b[0;31mNameError\u001b[0m                                 Traceback (most recent call last)",
      "Cell \u001b[0;32mIn[17], line 3\u001b[0m\n\u001b[1;32m      1\u001b[0m fhe \u001b[38;5;241m=\u001b[39m FHE_VEC()\n\u001b[1;32m      2\u001b[0m fhe_model \u001b[38;5;241m=\u001b[39m FHELinear(model, fhe)\n\u001b[0;32m----> 3\u001b[0m \u001b[43mtest_fhe\u001b[49m(fhe_model, fhe, test_ds, batch_size\u001b[38;5;241m=\u001b[39m\u001b[38;5;241m64\u001b[39m, scale\u001b[38;5;241m=\u001b[39m\u001b[38;5;241m100\u001b[39m)\n",
      "\u001b[0;31mNameError\u001b[0m: name 'test_fhe' is not defined"
     ]
    }
   ],
   "source": [
    "fhe = FHE_VEC()\n",
    "fhe_model = FHELinear(model, fhe)\n",
    "test_fhe(fhe_model, fhe, test_ds, batch_size=64, scale=100)"
   ]
  },
  {
   "cell_type": "markdown",
   "id": "1abb5300-46f5-4cfd-a6e2-897b4791a5be",
   "metadata": {},
   "source": [
    "# MNIST Dataset"
   ]
  },
  {
   "cell_type": "code",
   "execution_count": 7,
   "id": "04c1b0fd",
   "metadata": {},
   "outputs": [
    {
     "name": "stderr",
     "output_type": "stream",
     "text": [
      "/Users/kojikimura/miniconda3/envs/sage-diffusion/lib/python3.12/site-packages/matplotlib/cbook.py:684: DeprecationWarning: __array__ implementation doesn't accept a copy keyword, so passing copy=False failed. __array__ must implement 'dtype' and 'copy' keyword arguments. To learn more, see the migration guide https://numpy.org/devdocs/numpy_2_0_migration_guide.html#adapting-to-changes-in-the-copy-keyword\n",
      "  x = np.array(x, subok=True, copy=copy)\n"
     ]
    },
    {
     "ename": "TypeError",
     "evalue": "Invalid shape (4,) for image data",
     "output_type": "error",
     "traceback": [
      "\u001b[0;31m---------------------------------------------------------------------------\u001b[0m",
      "\u001b[0;31mTypeError\u001b[0m                                 Traceback (most recent call last)",
      "Cell \u001b[0;32mIn[7], line 6\u001b[0m\n\u001b[1;32m      4\u001b[0m \u001b[38;5;28;01mfor\u001b[39;00m i \u001b[38;5;129;01min\u001b[39;00m \u001b[38;5;28mrange\u001b[39m(\u001b[38;5;241m10\u001b[39m):\n\u001b[1;32m      5\u001b[0m     plt\u001b[38;5;241m.\u001b[39msubplot(\u001b[38;5;241m2\u001b[39m, \u001b[38;5;241m5\u001b[39m, i \u001b[38;5;241m+\u001b[39m \u001b[38;5;241m1\u001b[39m)\n\u001b[0;32m----> 6\u001b[0m     \u001b[43mplt\u001b[49m\u001b[38;5;241;43m.\u001b[39;49m\u001b[43mimshow\u001b[49m\u001b[43m(\u001b[49m\u001b[43mimages\u001b[49m\u001b[43m[\u001b[49m\u001b[43mi\u001b[49m\u001b[43m]\u001b[49m\u001b[38;5;241;43m.\u001b[39;49m\u001b[43msqueeze\u001b[49m\u001b[43m(\u001b[49m\u001b[43m)\u001b[49m\u001b[43m,\u001b[49m\u001b[43m \u001b[49m\u001b[43mcmap\u001b[49m\u001b[38;5;241;43m=\u001b[39;49m\u001b[38;5;124;43m'\u001b[39;49m\u001b[38;5;124;43mgray\u001b[39;49m\u001b[38;5;124;43m'\u001b[39;49m\u001b[43m)\u001b[49m\n\u001b[1;32m      7\u001b[0m     plt\u001b[38;5;241m.\u001b[39mtitle(\u001b[38;5;124mf\u001b[39m\u001b[38;5;124m\"\u001b[39m\u001b[38;5;124mLabel: \u001b[39m\u001b[38;5;132;01m{\u001b[39;00mlabels[i]\u001b[38;5;132;01m}\u001b[39;00m\u001b[38;5;124m\"\u001b[39m)\n\u001b[1;32m      8\u001b[0m     plt\u001b[38;5;241m.\u001b[39maxis(\u001b[38;5;124m'\u001b[39m\u001b[38;5;124moff\u001b[39m\u001b[38;5;124m'\u001b[39m)\n",
      "File \u001b[0;32m~/miniconda3/envs/sage-diffusion/lib/python3.12/site-packages/matplotlib/pyplot.py:3590\u001b[0m, in \u001b[0;36mimshow\u001b[0;34m(X, cmap, norm, aspect, interpolation, alpha, vmin, vmax, colorizer, origin, extent, interpolation_stage, filternorm, filterrad, resample, url, data, **kwargs)\u001b[0m\n\u001b[1;32m   3568\u001b[0m \u001b[38;5;129m@_copy_docstring_and_deprecators\u001b[39m(Axes\u001b[38;5;241m.\u001b[39mimshow)\n\u001b[1;32m   3569\u001b[0m \u001b[38;5;28;01mdef\u001b[39;00m\u001b[38;5;250m \u001b[39m\u001b[38;5;21mimshow\u001b[39m(\n\u001b[1;32m   3570\u001b[0m     X: ArrayLike \u001b[38;5;241m|\u001b[39m PIL\u001b[38;5;241m.\u001b[39mImage\u001b[38;5;241m.\u001b[39mImage,\n\u001b[0;32m   (...)\u001b[0m\n\u001b[1;32m   3588\u001b[0m     \u001b[38;5;241m*\u001b[39m\u001b[38;5;241m*\u001b[39mkwargs,\n\u001b[1;32m   3589\u001b[0m ) \u001b[38;5;241m-\u001b[39m\u001b[38;5;241m>\u001b[39m AxesImage:\n\u001b[0;32m-> 3590\u001b[0m     __ret \u001b[38;5;241m=\u001b[39m \u001b[43mgca\u001b[49m\u001b[43m(\u001b[49m\u001b[43m)\u001b[49m\u001b[38;5;241;43m.\u001b[39;49m\u001b[43mimshow\u001b[49m\u001b[43m(\u001b[49m\n\u001b[1;32m   3591\u001b[0m \u001b[43m        \u001b[49m\u001b[43mX\u001b[49m\u001b[43m,\u001b[49m\n\u001b[1;32m   3592\u001b[0m \u001b[43m        \u001b[49m\u001b[43mcmap\u001b[49m\u001b[38;5;241;43m=\u001b[39;49m\u001b[43mcmap\u001b[49m\u001b[43m,\u001b[49m\n\u001b[1;32m   3593\u001b[0m \u001b[43m        \u001b[49m\u001b[43mnorm\u001b[49m\u001b[38;5;241;43m=\u001b[39;49m\u001b[43mnorm\u001b[49m\u001b[43m,\u001b[49m\n\u001b[1;32m   3594\u001b[0m \u001b[43m        \u001b[49m\u001b[43maspect\u001b[49m\u001b[38;5;241;43m=\u001b[39;49m\u001b[43maspect\u001b[49m\u001b[43m,\u001b[49m\n\u001b[1;32m   3595\u001b[0m \u001b[43m        \u001b[49m\u001b[43minterpolation\u001b[49m\u001b[38;5;241;43m=\u001b[39;49m\u001b[43minterpolation\u001b[49m\u001b[43m,\u001b[49m\n\u001b[1;32m   3596\u001b[0m \u001b[43m        \u001b[49m\u001b[43malpha\u001b[49m\u001b[38;5;241;43m=\u001b[39;49m\u001b[43malpha\u001b[49m\u001b[43m,\u001b[49m\n\u001b[1;32m   3597\u001b[0m \u001b[43m        \u001b[49m\u001b[43mvmin\u001b[49m\u001b[38;5;241;43m=\u001b[39;49m\u001b[43mvmin\u001b[49m\u001b[43m,\u001b[49m\n\u001b[1;32m   3598\u001b[0m \u001b[43m        \u001b[49m\u001b[43mvmax\u001b[49m\u001b[38;5;241;43m=\u001b[39;49m\u001b[43mvmax\u001b[49m\u001b[43m,\u001b[49m\n\u001b[1;32m   3599\u001b[0m \u001b[43m        \u001b[49m\u001b[43mcolorizer\u001b[49m\u001b[38;5;241;43m=\u001b[39;49m\u001b[43mcolorizer\u001b[49m\u001b[43m,\u001b[49m\n\u001b[1;32m   3600\u001b[0m \u001b[43m        \u001b[49m\u001b[43morigin\u001b[49m\u001b[38;5;241;43m=\u001b[39;49m\u001b[43morigin\u001b[49m\u001b[43m,\u001b[49m\n\u001b[1;32m   3601\u001b[0m \u001b[43m        \u001b[49m\u001b[43mextent\u001b[49m\u001b[38;5;241;43m=\u001b[39;49m\u001b[43mextent\u001b[49m\u001b[43m,\u001b[49m\n\u001b[1;32m   3602\u001b[0m \u001b[43m        \u001b[49m\u001b[43minterpolation_stage\u001b[49m\u001b[38;5;241;43m=\u001b[39;49m\u001b[43minterpolation_stage\u001b[49m\u001b[43m,\u001b[49m\n\u001b[1;32m   3603\u001b[0m \u001b[43m        \u001b[49m\u001b[43mfilternorm\u001b[49m\u001b[38;5;241;43m=\u001b[39;49m\u001b[43mfilternorm\u001b[49m\u001b[43m,\u001b[49m\n\u001b[1;32m   3604\u001b[0m \u001b[43m        \u001b[49m\u001b[43mfilterrad\u001b[49m\u001b[38;5;241;43m=\u001b[39;49m\u001b[43mfilterrad\u001b[49m\u001b[43m,\u001b[49m\n\u001b[1;32m   3605\u001b[0m \u001b[43m        \u001b[49m\u001b[43mresample\u001b[49m\u001b[38;5;241;43m=\u001b[39;49m\u001b[43mresample\u001b[49m\u001b[43m,\u001b[49m\n\u001b[1;32m   3606\u001b[0m \u001b[43m        \u001b[49m\u001b[43murl\u001b[49m\u001b[38;5;241;43m=\u001b[39;49m\u001b[43murl\u001b[49m\u001b[43m,\u001b[49m\n\u001b[1;32m   3607\u001b[0m \u001b[43m        \u001b[49m\u001b[38;5;241;43m*\u001b[39;49m\u001b[38;5;241;43m*\u001b[39;49m\u001b[43m(\u001b[49m\u001b[43m{\u001b[49m\u001b[38;5;124;43m\"\u001b[39;49m\u001b[38;5;124;43mdata\u001b[39;49m\u001b[38;5;124;43m\"\u001b[39;49m\u001b[43m:\u001b[49m\u001b[43m \u001b[49m\u001b[43mdata\u001b[49m\u001b[43m}\u001b[49m\u001b[43m \u001b[49m\u001b[38;5;28;43;01mif\u001b[39;49;00m\u001b[43m \u001b[49m\u001b[43mdata\u001b[49m\u001b[43m \u001b[49m\u001b[38;5;129;43;01mis\u001b[39;49;00m\u001b[43m \u001b[49m\u001b[38;5;129;43;01mnot\u001b[39;49;00m\u001b[43m \u001b[49m\u001b[38;5;28;43;01mNone\u001b[39;49;00m\u001b[43m \u001b[49m\u001b[38;5;28;43;01melse\u001b[39;49;00m\u001b[43m \u001b[49m\u001b[43m{\u001b[49m\u001b[43m}\u001b[49m\u001b[43m)\u001b[49m\u001b[43m,\u001b[49m\n\u001b[1;32m   3608\u001b[0m \u001b[43m        \u001b[49m\u001b[38;5;241;43m*\u001b[39;49m\u001b[38;5;241;43m*\u001b[39;49m\u001b[43mkwargs\u001b[49m\u001b[43m,\u001b[49m\n\u001b[1;32m   3609\u001b[0m \u001b[43m    \u001b[49m\u001b[43m)\u001b[49m\n\u001b[1;32m   3610\u001b[0m     sci(__ret)\n\u001b[1;32m   3611\u001b[0m     \u001b[38;5;28;01mreturn\u001b[39;00m __ret\n",
      "File \u001b[0;32m~/miniconda3/envs/sage-diffusion/lib/python3.12/site-packages/matplotlib/__init__.py:1521\u001b[0m, in \u001b[0;36m_preprocess_data.<locals>.inner\u001b[0;34m(ax, data, *args, **kwargs)\u001b[0m\n\u001b[1;32m   1518\u001b[0m \u001b[38;5;129m@functools\u001b[39m\u001b[38;5;241m.\u001b[39mwraps(func)\n\u001b[1;32m   1519\u001b[0m \u001b[38;5;28;01mdef\u001b[39;00m\u001b[38;5;250m \u001b[39m\u001b[38;5;21minner\u001b[39m(ax, \u001b[38;5;241m*\u001b[39margs, data\u001b[38;5;241m=\u001b[39m\u001b[38;5;28;01mNone\u001b[39;00m, \u001b[38;5;241m*\u001b[39m\u001b[38;5;241m*\u001b[39mkwargs):\n\u001b[1;32m   1520\u001b[0m     \u001b[38;5;28;01mif\u001b[39;00m data \u001b[38;5;129;01mis\u001b[39;00m \u001b[38;5;28;01mNone\u001b[39;00m:\n\u001b[0;32m-> 1521\u001b[0m         \u001b[38;5;28;01mreturn\u001b[39;00m \u001b[43mfunc\u001b[49m\u001b[43m(\u001b[49m\n\u001b[1;32m   1522\u001b[0m \u001b[43m            \u001b[49m\u001b[43max\u001b[49m\u001b[43m,\u001b[49m\n\u001b[1;32m   1523\u001b[0m \u001b[43m            \u001b[49m\u001b[38;5;241;43m*\u001b[39;49m\u001b[38;5;28;43mmap\u001b[39;49m\u001b[43m(\u001b[49m\u001b[43mcbook\u001b[49m\u001b[38;5;241;43m.\u001b[39;49m\u001b[43msanitize_sequence\u001b[49m\u001b[43m,\u001b[49m\u001b[43m \u001b[49m\u001b[43margs\u001b[49m\u001b[43m)\u001b[49m\u001b[43m,\u001b[49m\n\u001b[1;32m   1524\u001b[0m \u001b[43m            \u001b[49m\u001b[38;5;241;43m*\u001b[39;49m\u001b[38;5;241;43m*\u001b[39;49m\u001b[43m{\u001b[49m\u001b[43mk\u001b[49m\u001b[43m:\u001b[49m\u001b[43m \u001b[49m\u001b[43mcbook\u001b[49m\u001b[38;5;241;43m.\u001b[39;49m\u001b[43msanitize_sequence\u001b[49m\u001b[43m(\u001b[49m\u001b[43mv\u001b[49m\u001b[43m)\u001b[49m\u001b[43m \u001b[49m\u001b[38;5;28;43;01mfor\u001b[39;49;00m\u001b[43m \u001b[49m\u001b[43mk\u001b[49m\u001b[43m,\u001b[49m\u001b[43m \u001b[49m\u001b[43mv\u001b[49m\u001b[43m \u001b[49m\u001b[38;5;129;43;01min\u001b[39;49;00m\u001b[43m \u001b[49m\u001b[43mkwargs\u001b[49m\u001b[38;5;241;43m.\u001b[39;49m\u001b[43mitems\u001b[49m\u001b[43m(\u001b[49m\u001b[43m)\u001b[49m\u001b[43m}\u001b[49m\u001b[43m)\u001b[49m\n\u001b[1;32m   1526\u001b[0m     bound \u001b[38;5;241m=\u001b[39m new_sig\u001b[38;5;241m.\u001b[39mbind(ax, \u001b[38;5;241m*\u001b[39margs, \u001b[38;5;241m*\u001b[39m\u001b[38;5;241m*\u001b[39mkwargs)\n\u001b[1;32m   1527\u001b[0m     auto_label \u001b[38;5;241m=\u001b[39m (bound\u001b[38;5;241m.\u001b[39marguments\u001b[38;5;241m.\u001b[39mget(label_namer)\n\u001b[1;32m   1528\u001b[0m                   \u001b[38;5;129;01mor\u001b[39;00m bound\u001b[38;5;241m.\u001b[39mkwargs\u001b[38;5;241m.\u001b[39mget(label_namer))\n",
      "File \u001b[0;32m~/miniconda3/envs/sage-diffusion/lib/python3.12/site-packages/matplotlib/axes/_axes.py:5976\u001b[0m, in \u001b[0;36mAxes.imshow\u001b[0;34m(self, X, cmap, norm, aspect, interpolation, alpha, vmin, vmax, colorizer, origin, extent, interpolation_stage, filternorm, filterrad, resample, url, **kwargs)\u001b[0m\n\u001b[1;32m   5973\u001b[0m \u001b[38;5;28;01mif\u001b[39;00m aspect \u001b[38;5;129;01mis\u001b[39;00m \u001b[38;5;129;01mnot\u001b[39;00m \u001b[38;5;28;01mNone\u001b[39;00m:\n\u001b[1;32m   5974\u001b[0m     \u001b[38;5;28mself\u001b[39m\u001b[38;5;241m.\u001b[39mset_aspect(aspect)\n\u001b[0;32m-> 5976\u001b[0m \u001b[43mim\u001b[49m\u001b[38;5;241;43m.\u001b[39;49m\u001b[43mset_data\u001b[49m\u001b[43m(\u001b[49m\u001b[43mX\u001b[49m\u001b[43m)\u001b[49m\n\u001b[1;32m   5977\u001b[0m im\u001b[38;5;241m.\u001b[39mset_alpha(alpha)\n\u001b[1;32m   5978\u001b[0m \u001b[38;5;28;01mif\u001b[39;00m im\u001b[38;5;241m.\u001b[39mget_clip_path() \u001b[38;5;129;01mis\u001b[39;00m \u001b[38;5;28;01mNone\u001b[39;00m:\n\u001b[1;32m   5979\u001b[0m     \u001b[38;5;66;03m# image does not already have clipping set, clip to Axes patch\u001b[39;00m\n",
      "File \u001b[0;32m~/miniconda3/envs/sage-diffusion/lib/python3.12/site-packages/matplotlib/image.py:685\u001b[0m, in \u001b[0;36m_ImageBase.set_data\u001b[0;34m(self, A)\u001b[0m\n\u001b[1;32m    683\u001b[0m \u001b[38;5;28;01mif\u001b[39;00m \u001b[38;5;28misinstance\u001b[39m(A, PIL\u001b[38;5;241m.\u001b[39mImage\u001b[38;5;241m.\u001b[39mImage):\n\u001b[1;32m    684\u001b[0m     A \u001b[38;5;241m=\u001b[39m pil_to_array(A)  \u001b[38;5;66;03m# Needed e.g. to apply png palette.\u001b[39;00m\n\u001b[0;32m--> 685\u001b[0m \u001b[38;5;28mself\u001b[39m\u001b[38;5;241m.\u001b[39m_A \u001b[38;5;241m=\u001b[39m \u001b[38;5;28;43mself\u001b[39;49m\u001b[38;5;241;43m.\u001b[39;49m\u001b[43m_normalize_image_array\u001b[49m\u001b[43m(\u001b[49m\u001b[43mA\u001b[49m\u001b[43m)\u001b[49m\n\u001b[1;32m    686\u001b[0m \u001b[38;5;28mself\u001b[39m\u001b[38;5;241m.\u001b[39m_imcache \u001b[38;5;241m=\u001b[39m \u001b[38;5;28;01mNone\u001b[39;00m\n\u001b[1;32m    687\u001b[0m \u001b[38;5;28mself\u001b[39m\u001b[38;5;241m.\u001b[39mstale \u001b[38;5;241m=\u001b[39m \u001b[38;5;28;01mTrue\u001b[39;00m\n",
      "File \u001b[0;32m~/miniconda3/envs/sage-diffusion/lib/python3.12/site-packages/matplotlib/image.py:653\u001b[0m, in \u001b[0;36m_ImageBase._normalize_image_array\u001b[0;34m(A)\u001b[0m\n\u001b[1;32m    651\u001b[0m     A \u001b[38;5;241m=\u001b[39m A\u001b[38;5;241m.\u001b[39msqueeze(\u001b[38;5;241m-\u001b[39m\u001b[38;5;241m1\u001b[39m)  \u001b[38;5;66;03m# If just (M, N, 1), assume scalar and apply colormap.\u001b[39;00m\n\u001b[1;32m    652\u001b[0m \u001b[38;5;28;01mif\u001b[39;00m \u001b[38;5;129;01mnot\u001b[39;00m (A\u001b[38;5;241m.\u001b[39mndim \u001b[38;5;241m==\u001b[39m \u001b[38;5;241m2\u001b[39m \u001b[38;5;129;01mor\u001b[39;00m A\u001b[38;5;241m.\u001b[39mndim \u001b[38;5;241m==\u001b[39m \u001b[38;5;241m3\u001b[39m \u001b[38;5;129;01mand\u001b[39;00m A\u001b[38;5;241m.\u001b[39mshape[\u001b[38;5;241m-\u001b[39m\u001b[38;5;241m1\u001b[39m] \u001b[38;5;129;01min\u001b[39;00m [\u001b[38;5;241m3\u001b[39m, \u001b[38;5;241m4\u001b[39m]):\n\u001b[0;32m--> 653\u001b[0m     \u001b[38;5;28;01mraise\u001b[39;00m \u001b[38;5;167;01mTypeError\u001b[39;00m(\u001b[38;5;124mf\u001b[39m\u001b[38;5;124m\"\u001b[39m\u001b[38;5;124mInvalid shape \u001b[39m\u001b[38;5;132;01m{\u001b[39;00mA\u001b[38;5;241m.\u001b[39mshape\u001b[38;5;132;01m}\u001b[39;00m\u001b[38;5;124m for image data\u001b[39m\u001b[38;5;124m\"\u001b[39m)\n\u001b[1;32m    654\u001b[0m \u001b[38;5;28;01mif\u001b[39;00m A\u001b[38;5;241m.\u001b[39mndim \u001b[38;5;241m==\u001b[39m \u001b[38;5;241m3\u001b[39m:\n\u001b[1;32m    655\u001b[0m     \u001b[38;5;66;03m# If the input data has values outside the valid range (after\u001b[39;00m\n\u001b[1;32m    656\u001b[0m     \u001b[38;5;66;03m# normalisation), we issue a warning and then clip X to the bounds\u001b[39;00m\n\u001b[1;32m    657\u001b[0m     \u001b[38;5;66;03m# - otherwise casting wraps extreme values, hiding outliers and\u001b[39;00m\n\u001b[1;32m    658\u001b[0m     \u001b[38;5;66;03m# making reliable interpretation impossible.\u001b[39;00m\n\u001b[1;32m    659\u001b[0m     high \u001b[38;5;241m=\u001b[39m \u001b[38;5;241m255\u001b[39m \u001b[38;5;28;01mif\u001b[39;00m np\u001b[38;5;241m.\u001b[39missubdtype(A\u001b[38;5;241m.\u001b[39mdtype, np\u001b[38;5;241m.\u001b[39minteger) \u001b[38;5;28;01melse\u001b[39;00m \u001b[38;5;241m1\u001b[39m\n",
      "\u001b[0;31mTypeError\u001b[0m: Invalid shape (4,) for image data"
     ]
    },
    {
     "data": {
      "image/png": "[encoded data removed]",
      "text/plain": [
       "<Figure size 1000x400 with 1 Axes>"
      ]
     },
     "metadata": {},
     "output_type": "display_data"
    }
   ],
   "source": [
    "full_train_ds, full_test_ds = download_MNIST()\n",
    "data_loader = DataLoader(full_test_ds, batch_size=64, shuffle=True)\n",
    "images, labels = next(iter(data_loader))\n",
    "\n",
    "plt.figure(figsize=(10, 4))\n",
    "for i in range(10):\n",
    "    plt.subplot(2, 5, i + 1)\n",
    "    plt.imshow(images[i].squeeze(), cmap='gray')\n",
    "    plt.title(f\"Label: {labels[i]}\")\n",
    "    plt.axis('off')\n",
    "plt.show()"
   ]
  },
  {
   "cell_type": "code",
   "execution_count": null,
   "id": "1e6d6986",
   "metadata": {},
   "outputs": [
    {
     "name": "stdout",
     "output_type": "stream",
     "text": [
      "Epoch 1/5, Training Loss: 1.7142\n",
      "Validation Loss: 0.0252\n",
      "Epoch 2/5, Training Loss: 1.5915\n",
      "Validation Loss: 0.0247\n",
      "Epoch 3/5, Training Loss: 1.5730\n",
      "Validation Loss: 0.0245\n",
      "Epoch 4/5, Training Loss: 1.5635\n",
      "Validation Loss: 0.0244\n",
      "Epoch 5/5, Training Loss: 1.5573\n",
      "Validation Loss: 0.0243\n",
      "Test Accuracy: 0.9249, 9249/10000\n"
     ]
    }
   ],
   "source": [
    "\n",
    "\n",
    "model = Linear(28 * 28, 10).to(device)\n",
    "train(model)\n",
    "test(model)"
   ]
  },
  {
   "cell_type": "code",
   "execution_count": 25,
   "id": "97f28761",
   "metadata": {},
   "outputs": [
    {
     "data": {
      "image/png": "[encoded data removed]",
      "text/plain": [
       "<Figure size 1000x400 with 10 Axes>"
      ]
     },
     "metadata": {},
     "output_type": "display_data"
    }
   ],
   "source": [
    "data_loader = DataLoader(full_test_ds, batch_size=64, shuffle=True)\n",
    "images, labels = next(iter(data_loader))\n",
    "\n",
    "plt.figure(figsize=(10, 4))\n",
    "for i in range(10):\n",
    "    plt.subplot(2, 5, i + 1)\n",
    "    plt.imshow(images[i].squeeze(), cmap='gray')\n",
    "    plt.title(f\"Label: {labels[i]}\")\n",
    "    plt.axis('off')\n",
    "plt.show()\n",
    "\n",
    "images = images.view(images.size(0), -1)\n",
    "output = model(images)\n",
    "output = output.argmax(dim=1, keepdim=True)\n",
    "# output"
   ]
  },
  {
   "cell_type": "code",
   "execution_count": null,
   "id": "15c37810",
   "metadata": {},
   "outputs": [],
   "source": [
    "model = ResidualBlock(28 * 28, 10, 0.3).to(device)\n",
    "train(model)\n",
    "test(model)"
   ]
  },
  {
   "cell_type": "code",
   "execution_count": 51,
   "id": "3611b9d9",
   "metadata": {},
   "outputs": [
    {
     "name": "stdout",
     "output_type": "stream",
     "text": [
      "Epoch 1/5, Training Loss: 1.6299\n",
      "Validation Loss: 0.0240\n",
      "Epoch 2/5, Training Loss: 1.5225\n",
      "Validation Loss: 0.0237\n",
      "Epoch 3/5, Training Loss: 1.5071\n",
      "Validation Loss: 0.0235\n",
      "Epoch 4/5, Training Loss: 1.4986\n",
      "Validation Loss: 0.0235\n",
      "Epoch 5/5, Training Loss: 1.4924\n",
      "Validation Loss: 0.0234\n",
      "Test Accuracy: 0.9682, 9682/10000\n"
     ]
    }
   ],
   "source": [
    "model = MultiLayerNet(28 * 28, 10, 200).to(device)\n",
    "train(model)\n",
    "test(model)"
   ]
  },
  {
   "cell_type": "code",
   "execution_count": null,
   "id": "78427542",
   "metadata": {},
   "outputs": [],
   "source": []
  }
 ],
 "metadata": {
  "kernelspec": {
   "display_name": "Python 3 (ipykernel)",
   "language": "python",
   "name": "python3"
  },
  "language_info": {
   "codemirror_mode": {
    "name": "ipython",
    "version": 3
   },
   "file_extension": ".py",
   "mimetype": "text/x-python",
   "name": "python",
   "nbconvert_exporter": "python",
   "pygments_lexer": "ipython3",
   "version": "3.12.10"
  }
 },
 "nbformat": 4,
 "nbformat_minor": 5
}
